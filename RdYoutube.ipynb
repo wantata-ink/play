{
  "nbformat": 4,
  "nbformat_minor": 0,
  "metadata": {
    "colab": {
      "name": "RdYoutube.ipynb",
      "provenance": [],
      "collapsed_sections": [],
      "toc_visible": true
    },
    "kernelspec": {
      "name": "python3",
      "display_name": "Python 3"
    },
    "accelerator": "GPU"
  },
  "cells": [
    {
      "cell_type": "code",
      "metadata": {
        "id": "XUGa1Pr49P9Q",
        "colab_type": "code",
        "colab": {}
      },
      "source": [
        "# gitからソースを取得\n",
        "%cd /content\n",
        "!git clone https://github.com/matterport/Mask_RCNN.git\n",
        "\n",
        "# ライブラリを取得\n",
        "%cd /content/Mask_RCNN\n",
        "!pip install -r requirements.txt\n",
        "\n",
        "!pip uninstall -y tensorflow\n",
        "!pip install tensorflow-gpu==1.14\n",
        "\n",
        "# setup.pyを実行\n",
        "%cd /content/Mask_RCNN\n",
        "%run -i setup.py install\n",
        "\n",
        "# COCO 用ソースを取得\n",
        "%cd /content\n",
        "!git clone https://github.com/waleedka/coco.git\n",
        "\n",
        "# python用APIをインストール\n",
        "%cd /content/coco/PythonAPI\n",
        "%run -i setup.py build_ext --inplace\n",
        "%run -i setup.py build_ext install\n",
        "\n",
        "# youtube-dlのインストール\n",
        "!pip install youtube-dl\n"
      ],
      "execution_count": 0,
      "outputs": []
    },
    {
      "cell_type": "code",
      "metadata": {
        "id": "RUruu8YK-FUS",
        "colab_type": "code",
        "colab": {}
      },
      "source": [
        "# RCNN\n",
        "import os\n",
        "import sys\n",
        "import random\n",
        "import math\n",
        "import numpy as np\n",
        "import skimage.io\n",
        "import matplotlib\n",
        "import matplotlib.pyplot as plt\n",
        "\n",
        "# Root directory of the project\n",
        "ROOT_DIR = os.path.abspath(\"/content/Mask_RCNN\")\n",
        "\n",
        "# Import Mask RCNN\n",
        "sys.path.append(ROOT_DIR)  # To find local version of the library\n",
        "from mrcnn import utils\n",
        "import mrcnn.model as modellib\n",
        "from mrcnn import visualize\n",
        "# Import COCO config\n",
        "sys.path.append(os.path.join(ROOT_DIR, \"samples/coco/\"))  # To find local version\n",
        "import coco\n",
        "\n",
        "%matplotlib inline \n",
        "\n",
        "# Directory to save logs and trained model\n",
        "MODEL_DIR = os.path.join(ROOT_DIR, \"logs\")\n",
        "\n",
        "# Local path to trained weights file\n",
        "COCO_MODEL_PATH = os.path.join(ROOT_DIR, \"mask_rcnn_coco.h5\")\n",
        "# Download COCO trained weights from Releases if needed\n",
        "if not os.path.exists(COCO_MODEL_PATH):\n",
        "    utils.download_trained_weights(COCO_MODEL_PATH)\n",
        "\n",
        "# Directory of images to run detection on\n",
        "IMAGE_DIR = os.path.join(ROOT_DIR, \"images\") "
      ],
      "execution_count": 0,
      "outputs": []
    },
    {
      "cell_type": "code",
      "metadata": {
        "id": "2faf-rHa_HGa",
        "colab_type": "code",
        "colab": {}
      },
      "source": [
        "%cd /content/Mask_RCNN/\n",
        "!youtube-dl https://www.youtube.com/watch?v=38U0Mhp3MbQ"
      ],
      "execution_count": 0,
      "outputs": []
    },
    {
      "cell_type": "code",
      "metadata": {
        "id": "j4-BCAI6_W8X",
        "colab_type": "code",
        "colab": {}
      },
      "source": [
        "!mv 【初の数学授業】300年前に天才フェルマーが残した数学界最大の難問-38U0Mhp3MbQ.mp4 youtube.mp4\n",
        "!ls"
      ],
      "execution_count": 0,
      "outputs": []
    },
    {
      "cell_type": "code",
      "metadata": {
        "id": "ufkqaZLCFl24",
        "colab_type": "code",
        "colab": {}
      },
      "source": [
        "class InferenceConfig(coco.CocoConfig):\n",
        "    # Set batch size to 1 since we'll be running inference on\n",
        "    # one image at a time. Batch size = GPU_COUNT * IMAGES_PER_GPU\n",
        "    GPU_COUNT = 1\n",
        "    IMAGES_PER_GPU = 1\n",
        "\n",
        "config = InferenceConfig()\n",
        "# config.display()\n",
        "\n",
        "\n",
        "# Create model object in inference mode.\n",
        "model = modellib.MaskRCNN(mode=\"inference\", model_dir=MODEL_DIR, config=config)\n",
        "\n",
        "# Load weights trained on MS-COCO\n",
        "model.load_weights(COCO_MODEL_PATH, by_name=True)\n",
        "\n",
        "\n",
        "# COCO Class names\n",
        "# Index of the class in the list is its ID. For example, to get ID of\n",
        "# the teddy bear class, use: class_names.index('teddy bear')\n",
        "class_names = ['BG', 'person', 'bicycle', 'car', 'motorcycle', 'airplane',\n",
        "               'bus', 'train', 'truck', 'boat', 'traffic light',\n",
        "               'fire hydrant', 'stop sign', 'parking meter', 'bench', 'bird',\n",
        "               'cat', 'dog', 'horse', 'sheep', 'cow', 'elephant', 'bear',\n",
        "               'zebra', 'giraffe', 'backpack', 'umbrella', 'handbag', 'tie',\n",
        "               'suitcase', 'frisbee', 'skis', 'snowboard', 'sports ball',\n",
        "               'kite', 'baseball bat', 'baseball glove', 'skateboard',\n",
        "               'surfboard', 'tennis racket', 'bottle', 'wine glass', 'cup',\n",
        "               'fork', 'knife', 'spoon', 'bowl', 'banana', 'apple',\n",
        "               'sandwich', 'orange', 'broccoli', 'carrot', 'hot dog', 'pizza',\n",
        "               'donut', 'cake', 'chair', 'couch', 'potted plant', 'bed',\n",
        "               'dining table', 'toilet', 'tv', 'laptop', 'mouse', 'remote',\n",
        "               'keyboard', 'cell phone', 'microwave', 'oven', 'toaster',\n",
        "               'sink', 'refrigerator', 'book', 'clock', 'vase', 'scissors',\n",
        "               'teddy bear', 'hair drier', 'toothbrush']\n"
      ],
      "execution_count": 0,
      "outputs": []
    },
    {
      "cell_type": "code",
      "metadata": {
        "id": "pRVYHMvHAElC",
        "colab_type": "code",
        "colab": {}
      },
      "source": [
        "import cv2\n",
        "import matplotlib.patches as patches\n",
        "from matplotlib.patches import Polygon\n",
        "import random\n",
        "from google.colab.patches import cv2_imshow\n",
        "\n",
        "def cv_display_instances(image, boxes, masks, class_ids, class_names,\n",
        "                      scores=None, title=\"\",\n",
        "                      figsize=(16, 16)):\n",
        "    # Number of instances\n",
        "    N = boxes.shape[0]\n",
        "    if not N:\n",
        "        print(\"\\n*** No instances to display *** \\n\")\n",
        "    else:\n",
        "        assert boxes.shape[0] == masks.shape[-1] == class_ids.shape[0]\n",
        "\n",
        "    # Generate random colors\n",
        "    colors = visualize.random_colors(N)\n",
        "\n",
        "    height, width = image.shape[:2]\n",
        "\n",
        "    masked_image = image.copy()#.astype(np.uint32).copy()\n",
        "    for i in range(N):\n",
        "        color = colors[i]\n",
        "\n",
        "        # Bounding box\n",
        "        if not np.any(boxes[i]):\n",
        "            continue\n",
        "        y1, x1, y2, x2 = boxes[i]\n",
        "        cv_color = (color[0] * 255, color[1] * 255, color[2] * 255)\n",
        "        cv2.rectangle(masked_image, (x1, y1), (x2, y2), cv_color , 1)\n",
        "\n",
        "        # Label\n",
        "        class_id = class_ids[i]\n",
        "        score = scores[i] if scores is not None else None\n",
        "        label = class_names[class_id]\n",
        "        x = random.randint(x1, (x1 + x2) // 2)\n",
        "        caption = \"{} {:.3f}\".format(label, score) if score else label\n",
        "\n",
        "        font = cv2.FONT_HERSHEY_PLAIN\n",
        "        cv2.putText(masked_image,caption,(x1, y1),font, 1, cv_color)\n",
        "\n",
        "        # Mask\n",
        "        mask = masks[:, :, i]\n",
        "        masked_image = visualize.apply_mask(masked_image, mask, color)\n",
        "\n",
        "\n",
        "    masked_image.astype(np.uint8)\n",
        "    return masked_image\n",
        "\n",
        "\n",
        "cap = cv2.VideoCapture(\"./youtube.mp4\") # 0はカメラのデバイス番号\n",
        "ret, frame = cap.read()\n",
        "\n",
        "while True:\n",
        "\n",
        "  ret, frame = cap.read()\n",
        "  print(ret)\n",
        " \n",
        "  results = model.detect([frame], verbose=1)\n",
        "  r = results[0]\n",
        "  result_image = cv_display_instances(frame, r['rois'], r['masks'], r['class_ids'], \n",
        "                            class_names, r['scores'])\n",
        "\n",
        "  cv2_imshow(result_image)\n",
        "\n",
        "  k = cv2.waitKey(1) # 1msec待つ\n",
        "  if k == 27: # ESCキーで終了\n",
        "    break"
      ],
      "execution_count": 0,
      "outputs": []
    },
    {
      "cell_type": "code",
      "metadata": {
        "id": "D1JtIzDZBfv0",
        "colab_type": "code",
        "colab": {}
      },
      "source": [
        ""
      ],
      "execution_count": 0,
      "outputs": []
    }
  ]
}