{
  "nbformat": 4,
  "nbformat_minor": 0,
  "metadata": {
    "colab": {
      "name": "chase.ipynb",
      "provenance": [],
      "collapsed_sections": []
    },
    "kernelspec": {
      "name": "python3",
      "display_name": "Python 3"
    },
    "accelerator": "GPU"
  },
  "cells": [
    {
      "cell_type": "code",
      "metadata": {
        "id": "w9VsOPPvdBKv",
        "colab_type": "code",
        "colab": {}
      },
      "source": [
        "# gitからソースを取得\n",
        "%cd /content\n",
        "!git clone https://github.com/yehengchen/Object-Detection-and-Tracking.git\n",
        "\n",
        "# ライブラリを取得\n",
        "%cd /content/Object-Detection-and-Tracking/OneStage/yolo/deep_sort_yolov3\n",
        "!pip install opencv-python scikit-learn scipy Pillow torch torchvision\n",
        "\n",
        "!pip uninstall -y tensorflow\n",
        "!pip install tensorflow-gpu==1.14\n",
        "\n",
        "#Youtubeダウンローダーをインストール\n",
        "!pip install youtube-dl "
      ],
      "execution_count": 0,
      "outputs": []
    },
    {
      "cell_type": "code",
      "metadata": {
        "id": "xGxAxzThdzFo",
        "colab_type": "code",
        "colab": {}
      },
      "source": [
        "%cd /content/Object-Detection-and-Tracking/OneStage/yolo/deep_sort_yolov3/model_data/ \n",
        "!wget https://pjreddie.com/media/files/yolov3.weights"
      ],
      "execution_count": 0,
      "outputs": []
    },
    {
      "cell_type": "code",
      "metadata": {
        "id": "SgH11r3m9yaV",
        "colab_type": "code",
        "colab": {}
      },
      "source": [
        "%cd /content/Object-Detection-and-Tracking/OneStage/yolo/deep_sort_yolov3/\n",
        "!python convert.py model_data/yolov3.cfg model_data/yolov3.weights model_data/yolo.h5"
      ],
      "execution_count": 0,
      "outputs": []
    },
    {
      "cell_type": "code",
      "metadata": {
        "id": "eJLL5MD7_nuJ",
        "colab_type": "code",
        "colab": {}
      },
      "source": [
        "!pwd"
      ],
      "execution_count": 0,
      "outputs": []
    },
    {
      "cell_type": "code",
      "metadata": {
        "id": "qNYxKdog_568",
        "colab_type": "code",
        "colab": {}
      },
      "source": [
        "!mkdir test_video output"
      ],
      "execution_count": 0,
      "outputs": []
    },
    {
      "cell_type": "code",
      "metadata": {
        "id": "0OXvJJvHACdK",
        "colab_type": "code",
        "colab": {}
      },
      "source": [
        "%cd test_video/"
      ],
      "execution_count": 0,
      "outputs": []
    },
    {
      "cell_type": "code",
      "metadata": {
        "id": "3FVbqLOzAS2U",
        "colab_type": "code",
        "colab": {}
      },
      "source": [
        "!youtube-dl \"https://www.youtube.com/watch?v=8EjtKuuz48c\" "
      ],
      "execution_count": 0,
      "outputs": []
    },
    {
      "cell_type": "code",
      "metadata": {
        "id": "o8mR1_O5BQOm",
        "colab_type": "code",
        "colab": {}
      },
      "source": [
        "!mv \"高校サッカー選手権 聖和学園vs宮城工業 後半ロスタイムの劇的スーパーゴール！-8EjtKuuz48c.mp4\" soccer.mp4"
      ],
      "execution_count": 0,
      "outputs": []
    },
    {
      "cell_type": "code",
      "metadata": {
        "id": "zPikbp66CROo",
        "colab_type": "code",
        "colab": {}
      },
      "source": [
        "%cd /content/Object-Detection-and-Tracking/OneStage/yolo/deep_sort_yolov3/\n",
        "!python main.py -c person -i ./test_video/soccer.mp4 "
      ],
      "execution_count": 0,
      "outputs": []
    },
    {
      "cell_type": "code",
      "metadata": {
        "id": "T7Kj9jtBBqX0",
        "colab_type": "code",
        "colab": {}
      },
      "source": [
        ""
      ],
      "execution_count": 0,
      "outputs": []
    }
  ]
}